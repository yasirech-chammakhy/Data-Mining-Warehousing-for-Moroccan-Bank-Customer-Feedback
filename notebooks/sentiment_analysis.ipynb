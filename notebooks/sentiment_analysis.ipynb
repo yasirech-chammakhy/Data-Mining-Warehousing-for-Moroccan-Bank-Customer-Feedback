{
 "cells": [
  {
   "attachments": {},
   "cell_type": "markdown",
   "metadata": {},
   "source": [
    "# Sentiment analysis for reviews\n",
    "\n",
    "In our project, we have made significant progress by collecting reviews from various locations using a Google Maps scraper. After performing data cleaning, we decided to translate the reviews from French to English and employ BERT for sentiment analysis.\n",
    "\n",
    "We chose BERT because it is a state-of-the-art language model that excels in natural language processing tasks, including sentiment analysis. By leveraging BERT's powerful language understanding capabilities, we can obtain accurate sentiment predictions.\n",
    "\n",
    "Translating the reviews to English offers advantages such as access to a wider range of NLP resources and a broader audience. English is widely used in NLP, providing a rich ecosystem of tools and pre-trained models. Additionally, analyzing sentiment in English ensures our results can be easily understood and shared globally.\n",
    "\n",
    "In the upcoming sections, we will implement sentiment analysis using BERT. This will help us gain valuable insights into customer sentiments towards different locations, enabling businesses to make data-driven decisions and enhance user experiences.\n",
    "\n",
    "For further reference, you can explore our repository on sentiment analysis of Ryanair airline reviews using VADER: [**Sentiment Analysis of Ryanair Airline Reviews**](https://github.com/yasirech-chammakhy/Sentiment-Analysis-of-Ryanair-Airline-Reviews). It showcases VADER's implementation and provides insights into sentiment expressed in Ryanair reviews.\n"
   ]
  },
  {
   "cell_type": "code",
   "execution_count": 1,
   "metadata": {},
   "outputs": [],
   "source": [
    "import pandas as pd"
   ]
  },
  {
   "cell_type": "code",
   "execution_count": 2,
   "metadata": {},
   "outputs": [],
   "source": [
    "df = pd.read_csv('../data/all_cities_cleaned_english.csv')"
   ]
  },
  {
   "cell_type": "code",
   "execution_count": 3,
   "metadata": {},
   "outputs": [
    {
     "name": "stdout",
     "output_type": "stream",
     "text": [
      "<class 'pandas.core.frame.DataFrame'>\n",
      "RangeIndex: 17206 entries, 0 to 17205\n",
      "Data columns (total 16 columns):\n",
      " #   Column                   Non-Null Count  Dtype  \n",
      "---  ------                   --------------  -----  \n",
      " 0   bank                     17206 non-null  object \n",
      " 1   categoryName             17205 non-null  object \n",
      " 2   city                     17206 non-null  object \n",
      " 3   totalScore               17206 non-null  float64\n",
      " 4   rank                     17206 non-null  int64  \n",
      " 5   cid                      17206 non-null  float64\n",
      " 6   publishedAtDate          17206 non-null  object \n",
      " 7   reviewsCount             17206 non-null  int64  \n",
      " 8   reviewsDistribution      17206 non-null  object \n",
      " 9   textTranslated           9257 non-null   object \n",
      " 10  reviewId                 17206 non-null  object \n",
      " 11  reviewerId               17206 non-null  float64\n",
      " 12  reviewerNumberOfReviews  17206 non-null  float64\n",
      " 13  stars                    17206 non-null  float64\n",
      " 14  lat                      17206 non-null  float64\n",
      " 15  lng                      17206 non-null  float64\n",
      "dtypes: float64(7), int64(2), object(7)\n",
      "memory usage: 2.1+ MB\n"
     ]
    }
   ],
   "source": [
    "df.info()"
   ]
  },
  {
   "attachments": {},
   "cell_type": "markdown",
   "metadata": {},
   "source": [
    "##  Clean the text"
   ]
  },
  {
   "cell_type": "code",
   "execution_count": 4,
   "metadata": {},
   "outputs": [
    {
     "name": "stderr",
     "output_type": "stream",
     "text": [
      "Using region Rabat-Sale-Kenitra server backend.\n",
      "\n"
     ]
    }
   ],
   "source": [
    "from utils import clean_review"
   ]
  },
  {
   "cell_type": "code",
   "execution_count": 5,
   "metadata": {},
   "outputs": [],
   "source": [
    "# Cleaning the text in the textTranslated column\n",
    "df['cleaned_text'] = df['textTranslated'].apply(clean_review)"
   ]
  },
  {
   "cell_type": "code",
   "execution_count": 6,
   "metadata": {},
   "outputs": [
    {
     "data": {
      "text/html": [
       "<div>\n",
       "<style scoped>\n",
       "    .dataframe tbody tr th:only-of-type {\n",
       "        vertical-align: middle;\n",
       "    }\n",
       "\n",
       "    .dataframe tbody tr th {\n",
       "        vertical-align: top;\n",
       "    }\n",
       "\n",
       "    .dataframe thead th {\n",
       "        text-align: right;\n",
       "    }\n",
       "</style>\n",
       "<table border=\"1\" class=\"dataframe\">\n",
       "  <thead>\n",
       "    <tr style=\"text-align: right;\">\n",
       "      <th></th>\n",
       "      <th>bank</th>\n",
       "      <th>categoryName</th>\n",
       "      <th>city</th>\n",
       "      <th>totalScore</th>\n",
       "      <th>rank</th>\n",
       "      <th>cid</th>\n",
       "      <th>publishedAtDate</th>\n",
       "      <th>reviewsCount</th>\n",
       "      <th>reviewsDistribution</th>\n",
       "      <th>textTranslated</th>\n",
       "      <th>reviewId</th>\n",
       "      <th>reviewerId</th>\n",
       "      <th>reviewerNumberOfReviews</th>\n",
       "      <th>stars</th>\n",
       "      <th>lat</th>\n",
       "      <th>lng</th>\n",
       "      <th>cleaned_text</th>\n",
       "    </tr>\n",
       "  </thead>\n",
       "  <tbody>\n",
       "    <tr>\n",
       "      <th>0</th>\n",
       "      <td>Attijariwafa Bank</td>\n",
       "      <td>Banque</td>\n",
       "      <td>Agadir</td>\n",
       "      <td>1.8</td>\n",
       "      <td>119</td>\n",
       "      <td>1.589799e+19</td>\n",
       "      <td>2023-02-24</td>\n",
       "      <td>5</td>\n",
       "      <td>{'oneStar': 4, 'twoStar': 0, 'threeStar': 0, '...</td>\n",
       "      <td>Outstanding service, especially if you ask for...</td>\n",
       "      <td>ChdDSUhNMG9nS0VJQ0FnSUNodDhhd3pRRRAB</td>\n",
       "      <td>1.052275e+20</td>\n",
       "      <td>1.0</td>\n",
       "      <td>1.0</td>\n",
       "      <td>30.41016</td>\n",
       "      <td>-9.559908</td>\n",
       "      <td>outstanding service especially ask assistance ...</td>\n",
       "    </tr>\n",
       "    <tr>\n",
       "      <th>1</th>\n",
       "      <td>Attijariwafa Bank</td>\n",
       "      <td>Banque</td>\n",
       "      <td>Agadir</td>\n",
       "      <td>1.8</td>\n",
       "      <td>119</td>\n",
       "      <td>1.589799e+19</td>\n",
       "      <td>2023-02-21</td>\n",
       "      <td>5</td>\n",
       "      <td>{'oneStar': 4, 'twoStar': 0, 'threeStar': 0, '...</td>\n",
       "      <td>Deplorable service, every time I come to this ...</td>\n",
       "      <td>ChZDSUhNMG9nS0VJQ0FnSUNoazVqWmVREAE</td>\n",
       "      <td>1.023462e+20</td>\n",
       "      <td>1.0</td>\n",
       "      <td>1.0</td>\n",
       "      <td>30.41016</td>\n",
       "      <td>-9.559908</td>\n",
       "      <td>deplorable service every time come agency prep...</td>\n",
       "    </tr>\n",
       "    <tr>\n",
       "      <th>2</th>\n",
       "      <td>Attijariwafa Bank</td>\n",
       "      <td>Banque</td>\n",
       "      <td>Agadir</td>\n",
       "      <td>1.8</td>\n",
       "      <td>119</td>\n",
       "      <td>1.589799e+19</td>\n",
       "      <td>2023-01-06</td>\n",
       "      <td>5</td>\n",
       "      <td>{'oneStar': 4, 'twoStar': 0, 'threeStar': 0, '...</td>\n",
       "      <td>Very good service by the director who helped m...</td>\n",
       "      <td>ChZDSUhNMG9nS0VJQ0FnSUNCcDdPeUdnEAE</td>\n",
       "      <td>1.110533e+20</td>\n",
       "      <td>2.0</td>\n",
       "      <td>5.0</td>\n",
       "      <td>30.41016</td>\n",
       "      <td>-9.559908</td>\n",
       "      <td>good service director helped hour fairly diffi...</td>\n",
       "    </tr>\n",
       "    <tr>\n",
       "      <th>3</th>\n",
       "      <td>Attijariwafa Bank</td>\n",
       "      <td>Banque</td>\n",
       "      <td>Agadir</td>\n",
       "      <td>1.8</td>\n",
       "      <td>119</td>\n",
       "      <td>1.589799e+19</td>\n",
       "      <td>2020-11-13</td>\n",
       "      <td>5</td>\n",
       "      <td>{'oneStar': 4, 'twoStar': 0, 'threeStar': 0, '...</td>\n",
       "      <td>Zero is bad telephone service</td>\n",
       "      <td>ChZDSUhNMG9nS0VJQ0FnSUNpdzdhWk1REAE</td>\n",
       "      <td>1.031901e+20</td>\n",
       "      <td>1.0</td>\n",
       "      <td>1.0</td>\n",
       "      <td>30.41016</td>\n",
       "      <td>-9.559908</td>\n",
       "      <td>zero bad telephone service</td>\n",
       "    </tr>\n",
       "    <tr>\n",
       "      <th>4</th>\n",
       "      <td>Attijariwafa Bank</td>\n",
       "      <td>Banque</td>\n",
       "      <td>Agadir</td>\n",
       "      <td>1.8</td>\n",
       "      <td>119</td>\n",
       "      <td>1.589799e+19</td>\n",
       "      <td>2020-10-05</td>\n",
       "      <td>5</td>\n",
       "      <td>{'oneStar': 4, 'twoStar': 0, 'threeStar': 0, '...</td>\n",
       "      <td>Zero service</td>\n",
       "      <td>ChdDSUhNMG9nS0VJQ0FnSURDbGMtcDZnRRAB</td>\n",
       "      <td>1.016100e+20</td>\n",
       "      <td>45.0</td>\n",
       "      <td>1.0</td>\n",
       "      <td>30.41016</td>\n",
       "      <td>-9.559908</td>\n",
       "      <td>zero service</td>\n",
       "    </tr>\n",
       "  </tbody>\n",
       "</table>\n",
       "</div>"
      ],
      "text/plain": [
       "                bank categoryName    city  totalScore  rank           cid   \n",
       "0  Attijariwafa Bank       Banque  Agadir         1.8   119  1.589799e+19  \\\n",
       "1  Attijariwafa Bank       Banque  Agadir         1.8   119  1.589799e+19   \n",
       "2  Attijariwafa Bank       Banque  Agadir         1.8   119  1.589799e+19   \n",
       "3  Attijariwafa Bank       Banque  Agadir         1.8   119  1.589799e+19   \n",
       "4  Attijariwafa Bank       Banque  Agadir         1.8   119  1.589799e+19   \n",
       "\n",
       "  publishedAtDate  reviewsCount   \n",
       "0      2023-02-24             5  \\\n",
       "1      2023-02-21             5   \n",
       "2      2023-01-06             5   \n",
       "3      2020-11-13             5   \n",
       "4      2020-10-05             5   \n",
       "\n",
       "                                 reviewsDistribution   \n",
       "0  {'oneStar': 4, 'twoStar': 0, 'threeStar': 0, '...  \\\n",
       "1  {'oneStar': 4, 'twoStar': 0, 'threeStar': 0, '...   \n",
       "2  {'oneStar': 4, 'twoStar': 0, 'threeStar': 0, '...   \n",
       "3  {'oneStar': 4, 'twoStar': 0, 'threeStar': 0, '...   \n",
       "4  {'oneStar': 4, 'twoStar': 0, 'threeStar': 0, '...   \n",
       "\n",
       "                                      textTranslated   \n",
       "0  Outstanding service, especially if you ask for...  \\\n",
       "1  Deplorable service, every time I come to this ...   \n",
       "2  Very good service by the director who helped m...   \n",
       "3                      Zero is bad telephone service   \n",
       "4                                       Zero service   \n",
       "\n",
       "                               reviewId    reviewerId   \n",
       "0  ChdDSUhNMG9nS0VJQ0FnSUNodDhhd3pRRRAB  1.052275e+20  \\\n",
       "1   ChZDSUhNMG9nS0VJQ0FnSUNoazVqWmVREAE  1.023462e+20   \n",
       "2   ChZDSUhNMG9nS0VJQ0FnSUNCcDdPeUdnEAE  1.110533e+20   \n",
       "3   ChZDSUhNMG9nS0VJQ0FnSUNpdzdhWk1REAE  1.031901e+20   \n",
       "4  ChdDSUhNMG9nS0VJQ0FnSURDbGMtcDZnRRAB  1.016100e+20   \n",
       "\n",
       "   reviewerNumberOfReviews  stars       lat       lng   \n",
       "0                      1.0    1.0  30.41016 -9.559908  \\\n",
       "1                      1.0    1.0  30.41016 -9.559908   \n",
       "2                      2.0    5.0  30.41016 -9.559908   \n",
       "3                      1.0    1.0  30.41016 -9.559908   \n",
       "4                     45.0    1.0  30.41016 -9.559908   \n",
       "\n",
       "                                        cleaned_text  \n",
       "0  outstanding service especially ask assistance ...  \n",
       "1  deplorable service every time come agency prep...  \n",
       "2  good service director helped hour fairly diffi...  \n",
       "3                         zero bad telephone service  \n",
       "4                                       zero service  "
      ]
     },
     "execution_count": 6,
     "metadata": {},
     "output_type": "execute_result"
    }
   ],
   "source": [
    "df.head()"
   ]
  },
  {
   "attachments": {},
   "cell_type": "markdown",
   "metadata": {},
   "source": [
    "In this step, we performed extensive cleaning on the text data in the reviews column by removing special characters and numericals, converting all characters to lowercase, tokenizing each review, removing stopwords, and lemmatizing each word in every review. By doing so, we created a new column called \"cleaned reviews\" which was a prerequisite for the sentiment analysis."
   ]
  },
  {
   "attachments": {},
   "cell_type": "markdown",
   "metadata": {},
   "source": [
    "## Generating Sentiment Scores for Cleaned text"
   ]
  },
  {
   "cell_type": "code",
   "execution_count": null,
   "metadata": {},
   "outputs": [],
   "source": []
  },
  {
   "cell_type": "code",
   "execution_count": null,
   "metadata": {},
   "outputs": [],
   "source": []
  },
  {
   "cell_type": "code",
   "execution_count": null,
   "metadata": {},
   "outputs": [],
   "source": []
  },
  {
   "cell_type": "code",
   "execution_count": null,
   "metadata": {},
   "outputs": [],
   "source": []
  },
  {
   "cell_type": "code",
   "execution_count": null,
   "metadata": {},
   "outputs": [],
   "source": []
  }
 ],
 "metadata": {
  "kernelspec": {
   "display_name": "Python 3",
   "language": "python",
   "name": "python3"
  },
  "language_info": {
   "codemirror_mode": {
    "name": "ipython",
    "version": 3
   },
   "file_extension": ".py",
   "mimetype": "text/x-python",
   "name": "python",
   "nbconvert_exporter": "python",
   "pygments_lexer": "ipython3",
   "version": "3.11.3"
  },
  "orig_nbformat": 4
 },
 "nbformat": 4,
 "nbformat_minor": 2
}
