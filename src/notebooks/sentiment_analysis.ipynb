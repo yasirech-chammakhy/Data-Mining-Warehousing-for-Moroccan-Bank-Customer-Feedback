{
 "cells": [
  {
   "attachments": {},
   "cell_type": "markdown",
   "metadata": {},
   "source": [
    "# Sentiment analysis for reviews\n",
    "\n",
    "In our project, we have made significant progress by collecting reviews from various locations using a Google Maps scraper. After performing data cleaning, we decided to translate the reviews from French to English and employ BERT for sentiment analysis.\n",
    "\n",
    "We chose BERT because it is a state-of-the-art language model that excels in natural language processing tasks, including sentiment analysis. By leveraging BERT's powerful language understanding capabilities, we can obtain accurate sentiment predictions.\n",
    "\n",
    "Translating the reviews to English offers advantages such as access to a wider range of NLP resources and a broader audience. English is widely used in NLP, providing a rich ecosystem of tools and pre-trained models. Additionally, analyzing sentiment in English ensures our results can be easily understood and shared globally.\n",
    "\n",
    "In the upcoming sections, we will implement sentiment analysis using BERT. This will help us gain valuable insights into customer sentiments towards different locations, enabling businesses to make data-driven decisions and enhance user experiences.\n",
    "\n",
    "For further reference, you can explore our repository on sentiment analysis of Ryanair airline reviews using VADER: [**Sentiment Analysis of Ryanair Airline Reviews**](https://github.com/yasirech-chammakhy/Sentiment-Analysis-of-Ryanair-Airline-Reviews). It showcases VADER's implementation and provides insights into sentiment expressed in Ryanair reviews.\n"
   ]
  },
  {
   "cell_type": "code",
   "execution_count": 1,
   "metadata": {},
   "outputs": [],
   "source": [
    "import pandas as pd"
   ]
  },
  {
   "cell_type": "code",
   "execution_count": 2,
   "metadata": {},
   "outputs": [],
   "source": [
    "df = pd.read_csv('../data/all_cities_cleaned_english.csv')"
   ]
  },
  {
   "cell_type": "code",
   "execution_count": 3,
   "metadata": {},
   "outputs": [
    {
     "name": "stdout",
     "output_type": "stream",
     "text": [
      "<class 'pandas.core.frame.DataFrame'>\n",
      "RangeIndex: 17206 entries, 0 to 17205\n",
      "Data columns (total 16 columns):\n",
      " #   Column                   Non-Null Count  Dtype  \n",
      "---  ------                   --------------  -----  \n",
      " 0   bank                     17206 non-null  object \n",
      " 1   categoryName             17205 non-null  object \n",
      " 2   city                     17206 non-null  object \n",
      " 3   totalScore               17206 non-null  float64\n",
      " 4   rank                     17206 non-null  int64  \n",
      " 5   cid                      17206 non-null  float64\n",
      " 6   publishedAtDate          17206 non-null  object \n",
      " 7   reviewsCount             17206 non-null  int64  \n",
      " 8   reviewsDistribution      17206 non-null  object \n",
      " 9   textTranslated           9257 non-null   object \n",
      " 10  reviewId                 17206 non-null  object \n",
      " 11  reviewerId               17206 non-null  float64\n",
      " 12  reviewerNumberOfReviews  17206 non-null  float64\n",
      " 13  stars                    17206 non-null  float64\n",
      " 14  lat                      17206 non-null  float64\n",
      " 15  lng                      17206 non-null  float64\n",
      "dtypes: float64(7), int64(2), object(7)\n",
      "memory usage: 2.1+ MB\n"
     ]
    }
   ],
   "source": [
    "df.info()"
   ]
  },
  {
   "attachments": {},
   "cell_type": "markdown",
   "metadata": {},
   "source": [
    "##  Clean the text"
   ]
  },
  {
   "cell_type": "code",
   "execution_count": 4,
   "metadata": {},
   "outputs": [
    {
     "name": "stderr",
     "output_type": "stream",
     "text": [
      "Using region Rabat-Sale-Kenitra server backend.\n",
      "\n"
     ]
    }
   ],
   "source": [
    "from utils import clean_review"
   ]
  },
  {
   "cell_type": "code",
   "execution_count": 5,
   "metadata": {},
   "outputs": [],
   "source": [
    "# Cleaning the text in the textTranslated column\n",
    "df['cleaned_text'] = df['textTranslated'].apply(clean_review)"
   ]
  },
  {
   "attachments": {},
   "cell_type": "markdown",
   "metadata": {},
   "source": [
    "In this step, we performed extensive cleaning on the text data in the reviews column by removing special characters and numericals, converting all characters to lowercase, tokenizing each review, removing stopwords, and lemmatizing each word in every review. By doing so, we created a new column called \"cleaned reviews\" which was a prerequisite for the sentiment analysis."
   ]
  },
  {
   "attachments": {},
   "cell_type": "markdown",
   "metadata": {},
   "source": [
    "## Generating Sentiment Scores for Cleaned text"
   ]
  },
  {
   "cell_type": "code",
   "execution_count": 6,
   "metadata": {},
   "outputs": [
    {
     "name": "stderr",
     "output_type": "stream",
     "text": [
      "c:\\Users\\ADS\\AppData\\Local\\Programs\\Python\\Python311\\Lib\\site-packages\\tqdm\\auto.py:21: TqdmWarning: IProgress not found. Please update jupyter and ipywidgets. See https://ipywidgets.readthedocs.io/en/stable/user_install.html\n",
      "  from .autonotebook import tqdm as notebook_tqdm\n"
     ]
    }
   ],
   "source": [
    "import torch\n",
    "from transformers import BertTokenizer, BertForSequenceClassification"
   ]
  },
  {
   "attachments": {},
   "cell_type": "markdown",
   "metadata": {},
   "source": [
    "These two lines of code are initializing a BERT model and tokenizer for sentiment analysis in multiple languages. The `BertTokenizer` class is used to tokenize the input text into subwords that can be processed by the BERT model. The `BertForSequenceClassification` class is a pre-trained BERT model that has been fine-tuned for sentiment analysis on a large corpus of text data. By calling `from_pretrained` method, the model and tokenizer are loaded from a pre-trained checkpoint provided by the `nlptown` library."
   ]
  },
  {
   "cell_type": "code",
   "execution_count": 7,
   "metadata": {},
   "outputs": [],
   "source": [
    "tokenizer = BertTokenizer.from_pretrained('nlptown/bert-base-multilingual-uncased-sentiment')\n",
    "model = BertForSequenceClassification.from_pretrained('nlptown/bert-base-multilingual-uncased-sentiment')"
   ]
  },
  {
   "attachments": {},
   "cell_type": "markdown",
   "metadata": {},
   "source": [
    "To handle cases where there is no review text, you have chosen to utilize the 'stars' column. This approach leverages the available data and provides a sentiment value based on the star rating.By incorporating the 'stars' column into our sentiment analysis, we are able to make the most of the available information and provide meaningful insights even in the absence of review text."
   ]
  },
  {
   "cell_type": "code",
   "execution_count": 8,
   "metadata": {},
   "outputs": [],
   "source": [
    "def sentiment_bank(row, text_column):\n",
    "    \"\"\"\n",
    "    Perform sentiment analysis on bank reviews.\n",
    "\n",
    "    Parameters:\n",
    "    - row: The row of the dataframe containing the review information.\n",
    "    - text_column: The column name for sentiment analysis.\n",
    "\n",
    "    Returns:\n",
    "    - The predicted sentiment as an integer value.\n",
    "    \"\"\"\n",
    "\n",
    "    cleaned_text = row[text_column]\n",
    "    stars = row['stars']\n",
    "\n",
    "    if pd.isna(cleaned_text) or cleaned_text == \"nan\":\n",
    "        return stars\n",
    "    elif isinstance(cleaned_text, str):\n",
    "        token = tokenizer.encode(cleaned_text[:512], return_tensors='pt')\n",
    "        result = model(token)\n",
    "        return int(torch.argmax(result.logits)) + 1\n",
    "    else:\n",
    "        return None"
   ]
  },
  {
   "cell_type": "code",
   "execution_count": 9,
   "metadata": {},
   "outputs": [],
   "source": [
    "df['sentiment'] = df.apply(lambda row: sentiment_bank(row, 'cleaned_text'), axis=1)"
   ]
  },
  {
   "cell_type": "code",
   "execution_count": 10,
   "metadata": {},
   "outputs": [
    {
     "data": {
      "text/html": [
       "<div>\n",
       "<style scoped>\n",
       "    .dataframe tbody tr th:only-of-type {\n",
       "        vertical-align: middle;\n",
       "    }\n",
       "\n",
       "    .dataframe tbody tr th {\n",
       "        vertical-align: top;\n",
       "    }\n",
       "\n",
       "    .dataframe thead th {\n",
       "        text-align: right;\n",
       "    }\n",
       "</style>\n",
       "<table border=\"1\" class=\"dataframe\">\n",
       "  <thead>\n",
       "    <tr style=\"text-align: right;\">\n",
       "      <th></th>\n",
       "      <th>bank</th>\n",
       "      <th>categoryName</th>\n",
       "      <th>city</th>\n",
       "      <th>totalScore</th>\n",
       "      <th>rank</th>\n",
       "      <th>cid</th>\n",
       "      <th>publishedAtDate</th>\n",
       "      <th>reviewsCount</th>\n",
       "      <th>reviewsDistribution</th>\n",
       "      <th>textTranslated</th>\n",
       "      <th>reviewId</th>\n",
       "      <th>reviewerId</th>\n",
       "      <th>reviewerNumberOfReviews</th>\n",
       "      <th>stars</th>\n",
       "      <th>lat</th>\n",
       "      <th>lng</th>\n",
       "      <th>cleaned_text</th>\n",
       "      <th>sentiment</th>\n",
       "    </tr>\n",
       "  </thead>\n",
       "  <tbody>\n",
       "    <tr>\n",
       "      <th>17201</th>\n",
       "      <td>CIH Bank</td>\n",
       "      <td>Banque</td>\n",
       "      <td>Tétouan</td>\n",
       "      <td>2.0</td>\n",
       "      <td>57</td>\n",
       "      <td>1.825584e+19</td>\n",
       "      <td>2017-11-18</td>\n",
       "      <td>41</td>\n",
       "      <td>{'oneStar': 29, 'twoStar': 0, 'threeStar': 3, ...</td>\n",
       "      <td>It's my bank</td>\n",
       "      <td>ChdDSUhNMG9nS0VJQ0FnSURRM2EtT3N3RRAB</td>\n",
       "      <td>1.040698e+20</td>\n",
       "      <td>43.0</td>\n",
       "      <td>4.0</td>\n",
       "      <td>35.585468</td>\n",
       "      <td>-5.347991</td>\n",
       "      <td>bank</td>\n",
       "      <td>5.0</td>\n",
       "    </tr>\n",
       "    <tr>\n",
       "      <th>17202</th>\n",
       "      <td>CIH Bank</td>\n",
       "      <td>Banque</td>\n",
       "      <td>Tétouan</td>\n",
       "      <td>2.0</td>\n",
       "      <td>57</td>\n",
       "      <td>1.825584e+19</td>\n",
       "      <td>2017-07-13</td>\n",
       "      <td>41</td>\n",
       "      <td>{'oneStar': 29, 'twoStar': 0, 'threeStar': 3, ...</td>\n",
       "      <td>NaN</td>\n",
       "      <td>ChdDSUhNMG9nS0VJQ0FnSURRNHY2V3JnRRAB</td>\n",
       "      <td>1.013352e+20</td>\n",
       "      <td>14.0</td>\n",
       "      <td>5.0</td>\n",
       "      <td>35.585468</td>\n",
       "      <td>-5.347991</td>\n",
       "      <td>nan</td>\n",
       "      <td>5.0</td>\n",
       "    </tr>\n",
       "    <tr>\n",
       "      <th>17203</th>\n",
       "      <td>CIH Bank</td>\n",
       "      <td>Banque</td>\n",
       "      <td>Tétouan</td>\n",
       "      <td>2.0</td>\n",
       "      <td>57</td>\n",
       "      <td>1.825584e+19</td>\n",
       "      <td>2017-06-23</td>\n",
       "      <td>41</td>\n",
       "      <td>{'oneStar': 29, 'twoStar': 0, 'threeStar': 3, ...</td>\n",
       "      <td>NaN</td>\n",
       "      <td>ChZDSUhNMG9nS0VJQ0FnSURBc1l5OVNBEAE</td>\n",
       "      <td>1.081290e+20</td>\n",
       "      <td>0.0</td>\n",
       "      <td>1.0</td>\n",
       "      <td>35.585468</td>\n",
       "      <td>-5.347991</td>\n",
       "      <td>nan</td>\n",
       "      <td>1.0</td>\n",
       "    </tr>\n",
       "    <tr>\n",
       "      <th>17204</th>\n",
       "      <td>CIH Bank</td>\n",
       "      <td>Banque</td>\n",
       "      <td>Tétouan</td>\n",
       "      <td>2.0</td>\n",
       "      <td>57</td>\n",
       "      <td>1.825584e+19</td>\n",
       "      <td>2017-06-21</td>\n",
       "      <td>41</td>\n",
       "      <td>{'oneStar': 29, 'twoStar': 0, 'threeStar': 3, ...</td>\n",
       "      <td>NaN</td>\n",
       "      <td>ChdDSUhNMG9nS0VJQ0FnSUNBX1pDQW9RRRAB</td>\n",
       "      <td>1.104122e+20</td>\n",
       "      <td>1.0</td>\n",
       "      <td>1.0</td>\n",
       "      <td>35.585468</td>\n",
       "      <td>-5.347991</td>\n",
       "      <td>nan</td>\n",
       "      <td>1.0</td>\n",
       "    </tr>\n",
       "    <tr>\n",
       "      <th>17205</th>\n",
       "      <td>CIH Bank</td>\n",
       "      <td>Banque</td>\n",
       "      <td>Tétouan</td>\n",
       "      <td>2.0</td>\n",
       "      <td>57</td>\n",
       "      <td>1.825584e+19</td>\n",
       "      <td>2017-04-10</td>\n",
       "      <td>41</td>\n",
       "      <td>{'oneStar': 29, 'twoStar': 0, 'threeStar': 3, ...</td>\n",
       "      <td>Well served especially for young people. .</td>\n",
       "      <td>ChdDSUhNMG9nS0VJQ0FnSUN3c3NXcXVBRRAB</td>\n",
       "      <td>1.070876e+20</td>\n",
       "      <td>374.0</td>\n",
       "      <td>3.0</td>\n",
       "      <td>35.585468</td>\n",
       "      <td>-5.347991</td>\n",
       "      <td>well served especially young people</td>\n",
       "      <td>5.0</td>\n",
       "    </tr>\n",
       "  </tbody>\n",
       "</table>\n",
       "</div>"
      ],
      "text/plain": [
       "           bank categoryName     city  totalScore  rank           cid   \n",
       "17201  CIH Bank       Banque  Tétouan         2.0    57  1.825584e+19  \\\n",
       "17202  CIH Bank       Banque  Tétouan         2.0    57  1.825584e+19   \n",
       "17203  CIH Bank       Banque  Tétouan         2.0    57  1.825584e+19   \n",
       "17204  CIH Bank       Banque  Tétouan         2.0    57  1.825584e+19   \n",
       "17205  CIH Bank       Banque  Tétouan         2.0    57  1.825584e+19   \n",
       "\n",
       "      publishedAtDate  reviewsCount   \n",
       "17201      2017-11-18            41  \\\n",
       "17202      2017-07-13            41   \n",
       "17203      2017-06-23            41   \n",
       "17204      2017-06-21            41   \n",
       "17205      2017-04-10            41   \n",
       "\n",
       "                                     reviewsDistribution   \n",
       "17201  {'oneStar': 29, 'twoStar': 0, 'threeStar': 3, ...  \\\n",
       "17202  {'oneStar': 29, 'twoStar': 0, 'threeStar': 3, ...   \n",
       "17203  {'oneStar': 29, 'twoStar': 0, 'threeStar': 3, ...   \n",
       "17204  {'oneStar': 29, 'twoStar': 0, 'threeStar': 3, ...   \n",
       "17205  {'oneStar': 29, 'twoStar': 0, 'threeStar': 3, ...   \n",
       "\n",
       "                                   textTranslated   \n",
       "17201                                It's my bank  \\\n",
       "17202                                         NaN   \n",
       "17203                                         NaN   \n",
       "17204                                         NaN   \n",
       "17205  Well served especially for young people. .   \n",
       "\n",
       "                                   reviewId    reviewerId   \n",
       "17201  ChdDSUhNMG9nS0VJQ0FnSURRM2EtT3N3RRAB  1.040698e+20  \\\n",
       "17202  ChdDSUhNMG9nS0VJQ0FnSURRNHY2V3JnRRAB  1.013352e+20   \n",
       "17203   ChZDSUhNMG9nS0VJQ0FnSURBc1l5OVNBEAE  1.081290e+20   \n",
       "17204  ChdDSUhNMG9nS0VJQ0FnSUNBX1pDQW9RRRAB  1.104122e+20   \n",
       "17205  ChdDSUhNMG9nS0VJQ0FnSUN3c3NXcXVBRRAB  1.070876e+20   \n",
       "\n",
       "       reviewerNumberOfReviews  stars        lat       lng   \n",
       "17201                     43.0    4.0  35.585468 -5.347991  \\\n",
       "17202                     14.0    5.0  35.585468 -5.347991   \n",
       "17203                      0.0    1.0  35.585468 -5.347991   \n",
       "17204                      1.0    1.0  35.585468 -5.347991   \n",
       "17205                    374.0    3.0  35.585468 -5.347991   \n",
       "\n",
       "                              cleaned_text  sentiment  \n",
       "17201                                 bank        5.0  \n",
       "17202                                  nan        5.0  \n",
       "17203                                  nan        1.0  \n",
       "17204                                  nan        1.0  \n",
       "17205  well served especially young people        5.0  "
      ]
     },
     "execution_count": 10,
     "metadata": {},
     "output_type": "execute_result"
    }
   ],
   "source": [
    "df.tail()"
   ]
  },
  {
   "cell_type": "code",
   "execution_count": 11,
   "metadata": {},
   "outputs": [],
   "source": [
    "# define a function to categorize the sentiment score\n",
    "def sentiment_category(score):\n",
    "    if score > 3:\n",
    "        return 'positive'\n",
    "    elif score < 3:\n",
    "        return 'negative'\n",
    "    else:\n",
    "        return 'neutral'\n",
    "\n",
    "df['sentiment_category'] = df['sentiment'].apply(sentiment_category)"
   ]
  },
  {
   "cell_type": "code",
   "execution_count": 12,
   "metadata": {},
   "outputs": [],
   "source": [
    "# extract year, month , day from publishedAtDate column\n",
    "df['publishedAtDate'] = pd.to_datetime(df['publishedAtDate'])\n",
    "df['year'] = df['publishedAtDate'].dt.year\n",
    "df['month'] = df['publishedAtDate'].dt.month\n",
    "df['day'] = df['publishedAtDate'].dt.day\n",
    "\n",
    "# drop publishedAtDate column\n",
    "df.drop('publishedAtDate', axis=1, inplace=True)"
   ]
  },
  {
   "cell_type": "code",
   "execution_count": 16,
   "metadata": {},
   "outputs": [],
   "source": [
    "# add country column that will be useful in power bi\n",
    "df['country'] = 'Morocco'"
   ]
  },
  {
   "attachments": {},
   "cell_type": "markdown",
   "metadata": {},
   "source": [
    "To prepare our data for in-depth analysis and loading into PostgreSQL, we have made several enhancements. Firstly, we have introduced the 'sentiment_category' column to categorize the sentiment scores, providing a more granular understanding of sentiment levels (e.g., positive, negative, neutral). This additional column enables us to analyze sentiment trends and patterns with greater specificity.\n",
    "\n",
    "Furthermore, we have extracted the year, month, and day components from the 'publishedAtDate' column. By creating separate columns for these temporal elements, we can perform time-based analyses, such as sentiment trends over different periods, seasonal variations, or comparison between specific timeframes."
   ]
  },
  {
   "cell_type": "code",
   "execution_count": 18,
   "metadata": {},
   "outputs": [],
   "source": [
    "# Save the dataframe to a csv file\n",
    "df.to_csv('../data/final_data.csv', index=False)"
   ]
  }
 ],
 "metadata": {
  "kernelspec": {
   "display_name": "Python 3",
   "language": "python",
   "name": "python3"
  },
  "language_info": {
   "codemirror_mode": {
    "name": "ipython",
    "version": 3
   },
   "file_extension": ".py",
   "mimetype": "text/x-python",
   "name": "python",
   "nbconvert_exporter": "python",
   "pygments_lexer": "ipython3",
   "version": "3.11.3"
  },
  "orig_nbformat": 4
 },
 "nbformat": 4,
 "nbformat_minor": 2
}
