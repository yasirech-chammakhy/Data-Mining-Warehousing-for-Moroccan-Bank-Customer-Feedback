{
 "cells": [
  {
   "attachments": {},
   "cell_type": "markdown",
   "metadata": {},
   "source": [
    "In this notebook, our objective is to import the data we have prepared in the previous notebook into our Postgres-based Data Warehouse."
   ]
  },
  {
   "cell_type": "code",
   "execution_count": 1,
   "metadata": {},
   "outputs": [],
   "source": [
    "# import libraries\n",
    "import pandas as pd\n",
    "import psycopg2"
   ]
  },
  {
   "cell_type": "code",
   "execution_count": 2,
   "metadata": {},
   "outputs": [],
   "source": [
    "df = pd.read_csv(\"../data/final_data.csv\")"
   ]
  },
  {
   "attachments": {},
   "cell_type": "markdown",
   "metadata": {},
   "source": [
    "Our database, named \"bank_reviews_dw,\" consists of three tables: \"date,\" \"reviews,\" and \"bank.\"\n",
    "\n",
    "The \"date\" table is a dimension table that stores information about the date when a review was made. It has columns for the \"id_date\" (a unique identifier for each date), \"year,\" \"month,\" and \"day\" values.\n",
    "\n",
    "The \"reviews\" table is a fact table that contains details about the reviews. It includes the \"reviewId\" as the primary key, representing the unique identifier for each review. The \"sentiment\" column stores the sentiment score, \"stars\" represents the rating given to the bank, and \"category\" stores the category of the sentiment.\n",
    "\n",
    "The \"bank\" table is another dimension table that holds information about the banks. It includes the \"id_bank\" as the primary key, \"cid\" for the bank identifier, \"bank\" for the bank name, \"country\" for the country name, \"city\" for the city where the bank is located, \"rank\" for the bank's ranking, \"lat\" for the latitude, and \"lng\" for the longitude."
   ]
  },
  {
   "cell_type": "code",
   "execution_count": 3,
   "metadata": {},
   "outputs": [],
   "source": [
    "# Establish a connection to your PostgreSQL database\n",
    "conn = psycopg2.connect(database=\"bank_reviews_dw\", user=\"postgres\", password=\"yasir\", host=\"localhost\", port=\"5432\")\n",
    "cur = conn.cursor()\n",
    "# Create the Date table (Dimension Table)\n",
    "cur.execute('''\n",
    "    CREATE TABLE IF NOT EXISTS date (\n",
    "        id_date SERIAL PRIMARY KEY,\n",
    "        year INTEGER,\n",
    "        month INTEGER,\n",
    "        day INTEGER\n",
    "    )\n",
    "''')\n",
    "# Create the Reviews table (Fact Table)\n",
    "cur.execute('''\n",
    "    CREATE TABLE IF NOT EXISTS reviews (\n",
    "        id_reviwe SERIAL PRIMARY KEY,\n",
    "        reviewId VARCHAR(255),\n",
    "        sentiment FLOAT,\n",
    "        stars FLOAT,\n",
    "        category VARCHAR(255)\n",
    "    )\n",
    "''')\n",
    "\n",
    "# Create the Bank table (Dimension Table)\n",
    "cur.execute('''\n",
    "    CREATE TABLE IF NOT EXISTS bank (\n",
    "        id_bank SERIAL PRIMARY KEY,\n",
    "        cid VARCHAR(255) ,\n",
    "        bank VARCHAR(255),\n",
    "        country VARCHAR(255),\n",
    "        city VARCHAR(255),\n",
    "        rank FLOAT,\n",
    "        lat FLOAT,\n",
    "        lng FLOAT\n",
    "    )\n",
    "''')\n",
    "\n",
    "# Insert data into the date table\n",
    "for _, row in df.iterrows():\n",
    "    cur.execute(\"INSERT INTO date (year, month, day) VALUES (%s, %s, %s)\",\n",
    "                (row['year'], row['month'], row['day']))\n",
    "\n",
    "# Insert data into the reviews table\n",
    "for _, row in df.iterrows():\n",
    "    cur.execute(\"INSERT INTO reviews (reviewId, sentiment, stars, category) VALUES (%s, %s, %s, %s)\",\n",
    "                (row['reviewId'], row['sentiment'], row['stars'], row['sentiment_category']))\n",
    "\n",
    "# Insert data into the bank table\n",
    "for _, row in df.iterrows():\n",
    "    cur.execute(\"INSERT INTO bank (cid, bank, country, city, rank, lat, lng) VALUES (%s, %s, %s, %s, %s, %s, %s)\",\n",
    "                (row['cid'], row['bank'], row['country'] , row['city'], row['rank'], row['lat'], row['lng']))\n",
    "\n",
    "# Commit the changes and close the connection\n",
    "conn.commit()\n",
    "cur.close()\n",
    "conn.close()"
   ]
  }
 ],
 "metadata": {
  "kernelspec": {
   "display_name": "Python 3",
   "language": "python",
   "name": "python3"
  },
  "language_info": {
   "codemirror_mode": {
    "name": "ipython",
    "version": 3
   },
   "file_extension": ".py",
   "mimetype": "text/x-python",
   "name": "python",
   "nbconvert_exporter": "python",
   "pygments_lexer": "ipython3",
   "version": "3.11.3"
  },
  "orig_nbformat": 4
 },
 "nbformat": 4,
 "nbformat_minor": 2
}
