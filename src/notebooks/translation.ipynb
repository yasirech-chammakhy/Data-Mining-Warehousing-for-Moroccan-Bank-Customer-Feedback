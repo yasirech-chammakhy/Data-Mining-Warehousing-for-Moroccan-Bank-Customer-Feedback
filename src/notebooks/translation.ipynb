{
 "cells": [
  {
   "attachments": {},
   "cell_type": "markdown",
   "metadata": {},
   "source": [
    "Before delving into the analysis of our dataset, let's begin by performing sentiment analysis on the 'textTranslated' column. By extracting sentiment information from the customer feedback, we can leverage these results to enhance our overall analysis.\n",
    "Unfortunately, the \"textTranslated\" column is in French, which poses a challenge for conducting sentiment analysis."
   ]
  },
  {
   "attachments": {},
   "cell_type": "markdown",
   "metadata": {},
   "source": [
    "## Translating the text"
   ]
  },
  {
   "cell_type": "code",
   "execution_count": 1,
   "metadata": {},
   "outputs": [],
   "source": [
    "import pandas as pd\n",
    "import numpy as np"
   ]
  },
  {
   "cell_type": "code",
   "execution_count": 2,
   "metadata": {},
   "outputs": [],
   "source": [
    "df = pd.read_csv('../data/all_cities_cleaned.csv')"
   ]
  },
  {
   "attachments": {},
   "cell_type": "markdown",
   "metadata": {},
   "source": [
    "The initial step I will take is to translate the contents of the \"textTranslated\" column into English."
   ]
  },
  {
   "cell_type": "code",
   "execution_count": 3,
   "metadata": {},
   "outputs": [
    {
     "name": "stderr",
     "output_type": "stream",
     "text": [
      "Using region  server backend.\n",
      "\n"
     ]
    }
   ],
   "source": [
    "from utils import translate"
   ]
  },
  {
   "cell_type": "code",
   "execution_count": 4,
   "metadata": {},
   "outputs": [],
   "source": [
    "# Translate the 'textTranslated' column\n",
    "translated_text = translate(df[\"textTranslated\"])\n",
    "\n",
    "# Assign the translated text back to the 'textTranslated' column\n",
    "df[\"textTranslated\"] = translated_text"
   ]
  },
  {
   "attachments": {},
   "cell_type": "markdown",
   "metadata": {},
   "source": [
    "I experienced a significant delay of 4 hours while waiting for this code to execute."
   ]
  },
  {
   "cell_type": "code",
   "execution_count": 5,
   "metadata": {},
   "outputs": [
    {
     "data": {
      "text/html": [
       "<div>\n",
       "<style scoped>\n",
       "    .dataframe tbody tr th:only-of-type {\n",
       "        vertical-align: middle;\n",
       "    }\n",
       "\n",
       "    .dataframe tbody tr th {\n",
       "        vertical-align: top;\n",
       "    }\n",
       "\n",
       "    .dataframe thead th {\n",
       "        text-align: right;\n",
       "    }\n",
       "</style>\n",
       "<table border=\"1\" class=\"dataframe\">\n",
       "  <thead>\n",
       "    <tr style=\"text-align: right;\">\n",
       "      <th></th>\n",
       "      <th>bank</th>\n",
       "      <th>categoryName</th>\n",
       "      <th>city</th>\n",
       "      <th>totalScore</th>\n",
       "      <th>rank</th>\n",
       "      <th>cid</th>\n",
       "      <th>publishedAtDate</th>\n",
       "      <th>reviewsCount</th>\n",
       "      <th>reviewsDistribution</th>\n",
       "      <th>textTranslated</th>\n",
       "      <th>reviewId</th>\n",
       "      <th>reviewerId</th>\n",
       "      <th>reviewerNumberOfReviews</th>\n",
       "      <th>stars</th>\n",
       "      <th>lat</th>\n",
       "      <th>lng</th>\n",
       "    </tr>\n",
       "  </thead>\n",
       "  <tbody>\n",
       "    <tr>\n",
       "      <th>0</th>\n",
       "      <td>Attijariwafa Bank</td>\n",
       "      <td>Banque</td>\n",
       "      <td>Agadir</td>\n",
       "      <td>1.8</td>\n",
       "      <td>119</td>\n",
       "      <td>1.589799e+19</td>\n",
       "      <td>2023-02-24</td>\n",
       "      <td>5</td>\n",
       "      <td>{'oneStar': 4, 'twoStar': 0, 'threeStar': 0, '...</td>\n",
       "      <td>Outstanding service, especially if you ask for...</td>\n",
       "      <td>ChdDSUhNMG9nS0VJQ0FnSUNodDhhd3pRRRAB</td>\n",
       "      <td>1.052275e+20</td>\n",
       "      <td>1.0</td>\n",
       "      <td>1.0</td>\n",
       "      <td>30.41016</td>\n",
       "      <td>-9.559908</td>\n",
       "    </tr>\n",
       "    <tr>\n",
       "      <th>1</th>\n",
       "      <td>Attijariwafa Bank</td>\n",
       "      <td>Banque</td>\n",
       "      <td>Agadir</td>\n",
       "      <td>1.8</td>\n",
       "      <td>119</td>\n",
       "      <td>1.589799e+19</td>\n",
       "      <td>2023-02-21</td>\n",
       "      <td>5</td>\n",
       "      <td>{'oneStar': 4, 'twoStar': 0, 'threeStar': 0, '...</td>\n",
       "      <td>Deplorable service, every time I come to this ...</td>\n",
       "      <td>ChZDSUhNMG9nS0VJQ0FnSUNoazVqWmVREAE</td>\n",
       "      <td>1.023462e+20</td>\n",
       "      <td>1.0</td>\n",
       "      <td>1.0</td>\n",
       "      <td>30.41016</td>\n",
       "      <td>-9.559908</td>\n",
       "    </tr>\n",
       "    <tr>\n",
       "      <th>2</th>\n",
       "      <td>Attijariwafa Bank</td>\n",
       "      <td>Banque</td>\n",
       "      <td>Agadir</td>\n",
       "      <td>1.8</td>\n",
       "      <td>119</td>\n",
       "      <td>1.589799e+19</td>\n",
       "      <td>2023-01-06</td>\n",
       "      <td>5</td>\n",
       "      <td>{'oneStar': 4, 'twoStar': 0, 'threeStar': 0, '...</td>\n",
       "      <td>Very good service by the director who helped m...</td>\n",
       "      <td>ChZDSUhNMG9nS0VJQ0FnSUNCcDdPeUdnEAE</td>\n",
       "      <td>1.110533e+20</td>\n",
       "      <td>2.0</td>\n",
       "      <td>5.0</td>\n",
       "      <td>30.41016</td>\n",
       "      <td>-9.559908</td>\n",
       "    </tr>\n",
       "    <tr>\n",
       "      <th>3</th>\n",
       "      <td>Attijariwafa Bank</td>\n",
       "      <td>Banque</td>\n",
       "      <td>Agadir</td>\n",
       "      <td>1.8</td>\n",
       "      <td>119</td>\n",
       "      <td>1.589799e+19</td>\n",
       "      <td>2020-11-13</td>\n",
       "      <td>5</td>\n",
       "      <td>{'oneStar': 4, 'twoStar': 0, 'threeStar': 0, '...</td>\n",
       "      <td>Zero is bad telephone service</td>\n",
       "      <td>ChZDSUhNMG9nS0VJQ0FnSUNpdzdhWk1REAE</td>\n",
       "      <td>1.031901e+20</td>\n",
       "      <td>1.0</td>\n",
       "      <td>1.0</td>\n",
       "      <td>30.41016</td>\n",
       "      <td>-9.559908</td>\n",
       "    </tr>\n",
       "    <tr>\n",
       "      <th>4</th>\n",
       "      <td>Attijariwafa Bank</td>\n",
       "      <td>Banque</td>\n",
       "      <td>Agadir</td>\n",
       "      <td>1.8</td>\n",
       "      <td>119</td>\n",
       "      <td>1.589799e+19</td>\n",
       "      <td>2020-10-05</td>\n",
       "      <td>5</td>\n",
       "      <td>{'oneStar': 4, 'twoStar': 0, 'threeStar': 0, '...</td>\n",
       "      <td>Zero service</td>\n",
       "      <td>ChdDSUhNMG9nS0VJQ0FnSURDbGMtcDZnRRAB</td>\n",
       "      <td>1.016100e+20</td>\n",
       "      <td>45.0</td>\n",
       "      <td>1.0</td>\n",
       "      <td>30.41016</td>\n",
       "      <td>-9.559908</td>\n",
       "    </tr>\n",
       "  </tbody>\n",
       "</table>\n",
       "</div>"
      ],
      "text/plain": [
       "                bank categoryName    city  totalScore  rank           cid   \n",
       "0  Attijariwafa Bank       Banque  Agadir         1.8   119  1.589799e+19  \\\n",
       "1  Attijariwafa Bank       Banque  Agadir         1.8   119  1.589799e+19   \n",
       "2  Attijariwafa Bank       Banque  Agadir         1.8   119  1.589799e+19   \n",
       "3  Attijariwafa Bank       Banque  Agadir         1.8   119  1.589799e+19   \n",
       "4  Attijariwafa Bank       Banque  Agadir         1.8   119  1.589799e+19   \n",
       "\n",
       "  publishedAtDate  reviewsCount   \n",
       "0      2023-02-24             5  \\\n",
       "1      2023-02-21             5   \n",
       "2      2023-01-06             5   \n",
       "3      2020-11-13             5   \n",
       "4      2020-10-05             5   \n",
       "\n",
       "                                 reviewsDistribution   \n",
       "0  {'oneStar': 4, 'twoStar': 0, 'threeStar': 0, '...  \\\n",
       "1  {'oneStar': 4, 'twoStar': 0, 'threeStar': 0, '...   \n",
       "2  {'oneStar': 4, 'twoStar': 0, 'threeStar': 0, '...   \n",
       "3  {'oneStar': 4, 'twoStar': 0, 'threeStar': 0, '...   \n",
       "4  {'oneStar': 4, 'twoStar': 0, 'threeStar': 0, '...   \n",
       "\n",
       "                                      textTranslated   \n",
       "0  Outstanding service, especially if you ask for...  \\\n",
       "1  Deplorable service, every time I come to this ...   \n",
       "2  Very good service by the director who helped m...   \n",
       "3                      Zero is bad telephone service   \n",
       "4                                       Zero service   \n",
       "\n",
       "                               reviewId    reviewerId   \n",
       "0  ChdDSUhNMG9nS0VJQ0FnSUNodDhhd3pRRRAB  1.052275e+20  \\\n",
       "1   ChZDSUhNMG9nS0VJQ0FnSUNoazVqWmVREAE  1.023462e+20   \n",
       "2   ChZDSUhNMG9nS0VJQ0FnSUNCcDdPeUdnEAE  1.110533e+20   \n",
       "3   ChZDSUhNMG9nS0VJQ0FnSUNpdzdhWk1REAE  1.031901e+20   \n",
       "4  ChdDSUhNMG9nS0VJQ0FnSURDbGMtcDZnRRAB  1.016100e+20   \n",
       "\n",
       "   reviewerNumberOfReviews  stars       lat       lng  \n",
       "0                      1.0    1.0  30.41016 -9.559908  \n",
       "1                      1.0    1.0  30.41016 -9.559908  \n",
       "2                      2.0    5.0  30.41016 -9.559908  \n",
       "3                      1.0    1.0  30.41016 -9.559908  \n",
       "4                     45.0    1.0  30.41016 -9.559908  "
      ]
     },
     "execution_count": 5,
     "metadata": {},
     "output_type": "execute_result"
    }
   ],
   "source": [
    "df.head()"
   ]
  },
  {
   "cell_type": "code",
   "execution_count": 6,
   "metadata": {},
   "outputs": [],
   "source": [
    "# Save the dataframe to a csv file\n",
    "df.to_csv('../data/all_cities_cleaned_english.csv', index=False)"
   ]
  }
 ],
 "metadata": {
  "kernelspec": {
   "display_name": "Python 3",
   "language": "python",
   "name": "python3"
  },
  "language_info": {
   "codemirror_mode": {
    "name": "ipython",
    "version": 3
   },
   "file_extension": ".py",
   "mimetype": "text/x-python",
   "name": "python",
   "nbconvert_exporter": "python",
   "pygments_lexer": "ipython3",
   "version": "3.11.3"
  },
  "orig_nbformat": 4
 },
 "nbformat": 4,
 "nbformat_minor": 2
}
